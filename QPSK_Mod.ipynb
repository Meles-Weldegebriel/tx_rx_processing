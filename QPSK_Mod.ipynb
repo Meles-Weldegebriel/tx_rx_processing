{
 "cells": [
  {
   "cell_type": "code",
   "execution_count": 65,
   "id": "97283a12",
   "metadata": {},
   "outputs": [],
   "source": [
    "\n",
    "import numpy as np\n",
    "def QPSK_TX():\n",
    "    M = 2 # bits per symbol (i.e. QPSK)\n",
    "    Information = \"Mobile Wireless Week 2023\"\n",
    "    binary = ''.join(format(ord(i), '08b') for i in Information)\n",
    "    data_bits = np.zeros((len(binary),))\n",
    "    for i in range(len(binary)):\n",
    "        data_bits[i] = binary[i]\n",
    "    \n",
    "    # Convert serial data to parallel\n",
    "    def Serial_to_Parallel(x):\n",
    "        return x.reshape((len(x)//M, M))\n",
    "    parallel_bits = Serial_to_Parallel(data_bits)\n",
    "\n",
    "    ## maps data_bits into complex value IQ samples\n",
    "    mapping_table = {\n",
    "        (0,0) : 1.4142 + 1.4142j,\n",
    "        (0,1) : -1.4142 + 1.4142j,\n",
    "        (1,0) : 1.4142 - 1.4142j,\n",
    "        (1,1) : -1.4142 - 1.4142j\n",
    "    }\n",
    "\n",
    "    # mapping\n",
    "    def Mapping(x):\n",
    "        return np.array([mapping_table[tuple(b)] for b in x])\n",
    "    QPSK = Mapping(parallel_bits)\n",
    "\n",
    "    return QPSK"
   ]
  },
  {
   "cell_type": "code",
   "execution_count": 66,
   "id": "fdd92bfe",
   "metadata": {},
   "outputs": [
    {
     "data": {
      "text/plain": [
       "array([-1.4142+1.4142j,  1.4142+1.4142j, -1.4142-1.4142j, -1.4142+1.4142j,\n",
       "       -1.4142+1.4142j,  1.4142-1.4142j, -1.4142-1.4142j, -1.4142-1.4142j,\n",
       "       -1.4142+1.4142j,  1.4142-1.4142j,  1.4142+1.4142j,  1.4142-1.4142j,\n",
       "       -1.4142+1.4142j,  1.4142-1.4142j,  1.4142-1.4142j, -1.4142+1.4142j,\n",
       "       -1.4142+1.4142j,  1.4142-1.4142j, -1.4142-1.4142j,  1.4142+1.4142j,\n",
       "       -1.4142+1.4142j,  1.4142-1.4142j, -1.4142+1.4142j, -1.4142+1.4142j,\n",
       "        1.4142+1.4142j,  1.4142-1.4142j,  1.4142+1.4142j,  1.4142+1.4142j,\n",
       "       -1.4142+1.4142j, -1.4142+1.4142j, -1.4142+1.4142j, -1.4142-1.4142j,\n",
       "       -1.4142+1.4142j,  1.4142-1.4142j,  1.4142-1.4142j, -1.4142+1.4142j,\n",
       "       -1.4142+1.4142j, -1.4142-1.4142j,  1.4142+1.4142j,  1.4142-1.4142j,\n",
       "       -1.4142+1.4142j,  1.4142-1.4142j, -1.4142+1.4142j, -1.4142+1.4142j,\n",
       "       -1.4142+1.4142j,  1.4142-1.4142j, -1.4142-1.4142j,  1.4142+1.4142j,\n",
       "       -1.4142+1.4142j,  1.4142-1.4142j, -1.4142+1.4142j, -1.4142+1.4142j,\n",
       "       -1.4142+1.4142j, -1.4142-1.4142j,  1.4142+1.4142j, -1.4142-1.4142j,\n",
       "       -1.4142+1.4142j, -1.4142-1.4142j,  1.4142+1.4142j, -1.4142-1.4142j,\n",
       "        1.4142+1.4142j,  1.4142-1.4142j,  1.4142+1.4142j,  1.4142+1.4142j,\n",
       "       -1.4142+1.4142j, -1.4142+1.4142j, -1.4142+1.4142j, -1.4142-1.4142j,\n",
       "       -1.4142+1.4142j,  1.4142-1.4142j, -1.4142+1.4142j, -1.4142+1.4142j,\n",
       "       -1.4142+1.4142j,  1.4142-1.4142j, -1.4142+1.4142j, -1.4142+1.4142j,\n",
       "       -1.4142+1.4142j,  1.4142-1.4142j,  1.4142-1.4142j, -1.4142-1.4142j,\n",
       "        1.4142+1.4142j,  1.4142-1.4142j,  1.4142+1.4142j,  1.4142+1.4142j,\n",
       "        1.4142+1.4142j, -1.4142-1.4142j,  1.4142+1.4142j,  1.4142-1.4142j,\n",
       "        1.4142+1.4142j, -1.4142-1.4142j,  1.4142+1.4142j,  1.4142+1.4142j,\n",
       "        1.4142+1.4142j, -1.4142-1.4142j,  1.4142+1.4142j,  1.4142-1.4142j,\n",
       "        1.4142+1.4142j, -1.4142-1.4142j,  1.4142+1.4142j, -1.4142-1.4142j])"
      ]
     },
     "execution_count": 66,
     "metadata": {},
     "output_type": "execute_result"
    }
   ],
   "source": [
    "qpsk_signal = QPSK_TX()\n",
    "qpsk_signal"
   ]
  }
 ],
 "metadata": {
  "kernelspec": {
   "display_name": "Python 3 (ipykernel)",
   "language": "python",
   "name": "python3"
  },
  "language_info": {
   "codemirror_mode": {
    "name": "ipython",
    "version": 3
   },
   "file_extension": ".py",
   "mimetype": "text/x-python",
   "name": "python",
   "nbconvert_exporter": "python",
   "pygments_lexer": "ipython3",
   "version": "3.9.7"
  }
 },
 "nbformat": 4,
 "nbformat_minor": 5
}
