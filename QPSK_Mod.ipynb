{
 "cells": [
  {
   "cell_type": "code",
   "execution_count": 25,
   "id": "97283a12",
   "metadata": {},
   "outputs": [],
   "source": [
    "#import uhd\n",
    "#import argparse\n",
    "import numpy as np\n",
    "import matplotlib.pyplot as plt\n",
    "import statistics as stats\n",
    "def QPSK_TX():\n",
    "    K = 64 # packet length\n",
    "    M = 2 # bits per symbol (i.e. QPSK)\n",
    "    bits = np.random.binomial(n=1, p=0.5, size=(M*K,))\n",
    "    print('bits:',bits)\n",
    "    for i in range(len(bits)//(2*K)):\n",
    "        \n",
    "        data_bits = bits[i*2*K:(i+1)*2*K]\n",
    "\n",
    "        # Convert serial data to parallel\n",
    "        def Serial_to_Parallel(x):\n",
    "            return x.reshape((K, M))\n",
    "        parallel_bits = Serial_to_Parallel(data_bits)\n",
    "\n",
    "        # mapping table\n",
    "        ## maps data_bits into complex value IQ samples\n",
    "        mapping_table = {\n",
    "            (0,0) : 1.4142 + 1.4142j,\n",
    "            (0,1) : -1.4142 + 1.4142j,\n",
    "            (1,0) : 1.4142 - 1.4142j,\n",
    "            (1,1) : -1.4142 - 1.4142j\n",
    "        }\n",
    "\n",
    "        # mapping\n",
    "        def Mapping(x):\n",
    "            return np.array([mapping_table[tuple(b)] for b in x])\n",
    "        QPSK = Mapping(parallel_bits)\n",
    "\n",
    "    return QPSK"
   ]
  },
  {
   "cell_type": "code",
   "execution_count": null,
   "id": "fdd92bfe",
   "metadata": {},
   "outputs": [],
   "source": []
  }
 ],
 "metadata": {
  "kernelspec": {
   "display_name": "Python 3 (ipykernel)",
   "language": "python",
   "name": "python3"
  },
  "language_info": {
   "codemirror_mode": {
    "name": "ipython",
    "version": 3
   },
   "file_extension": ".py",
   "mimetype": "text/x-python",
   "name": "python",
   "nbconvert_exporter": "python",
   "pygments_lexer": "ipython3",
   "version": "3.9.7"
  }
 },
 "nbformat": 4,
 "nbformat_minor": 5
}
