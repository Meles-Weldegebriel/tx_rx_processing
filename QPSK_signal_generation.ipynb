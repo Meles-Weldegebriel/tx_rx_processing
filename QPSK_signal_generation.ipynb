{
 "cells": [
  {
   "cell_type": "code",
   "execution_count": 186,
   "id": "d0e3ce34",
   "metadata": {},
   "outputs": [],
   "source": [
    "import numpy as np\n",
    "def Mod_TX():\n",
    "    M = 2 # bits per symbol (i.e. 2 in QPSK modulation)\n",
    "    Information_to_transmit = \"Mobile Wireless Week 2023\"\n",
    "    binary = ''.join(format(ord(i), '08b') for i in Information_to_transmit)\n",
    "    data_bits = np.zeros((len(binary),))\n",
    "    for i in range(len(binary)):\n",
    "        data_bits[i] = binary[i]\n",
    "    \n",
    "    # Add synch_word to\n",
    "    sync_word = np.asarray([1, 1, 1, 0, 1, 0, 1, 1, 1, 0, 0, 1, 0, 0, 0, 0])\n",
    "    print('sync_word:',sync_word)\n",
    "    bit_sequence = np.hstack([sync_word, data_bits])\n",
    "    \n",
    "    # Add Preamble\n",
    "    preamle_code = np.asarray([1,1,0,0])\n",
    "    preamble_swap = preamle_code\n",
    "    for i in range(16):\n",
    "        if i ==0:\n",
    "             preamble_swap = preamle_code\n",
    "        else:    \n",
    "            preamble = np.hstack([preamble_swap, preamle_code])\n",
    "            preamble_swap = preamble\n",
    "    \n",
    "    print('preamble:',preamble)\n",
    "    QPSK_frame = np.hstack([preamble, bit_sequence])\n",
    "    \n",
    "    # Convert serial data to parallel\n",
    "    def Serial_to_Parallel(x):\n",
    "        return x.reshape((len(x)//M, M))\n",
    "    parallel_bits = Serial_to_Parallel(QPSK_frame)\n",
    "\n",
    "    ## maps data_bits into complex value IQ samples\n",
    "    mapping_table = {\n",
    "        (0,0) : 1.4142 + 1.4142j,\n",
    "        (0,1) : -1.4142 + 1.4142j,\n",
    "        (1,0) : 1.4142 - 1.4142j,\n",
    "        (1,1) : -1.4142 - 1.4142j\n",
    "    }\n",
    "\n",
    "    # mapping\n",
    "    def Mapping(x):\n",
    "        return np.array([mapping_table[tuple(b)] for b in x])\n",
    "    IQ_samples = Mapping(parallel_bits)\n",
    "\n",
    "    # Adding synchronization bits\n",
    "    # [1 1 1 0 1 0 1 1 1 0 0 1 0 0 0 0]\n",
    "    #sync_word = np.arrary([1 1 1 0 1 0 1 1 1 0 0 1 0 0 0 0])\n",
    "    \n",
    "    return IQ_samples"
   ]
  },
  {
   "cell_type": "code",
   "execution_count": 187,
   "id": "fe0c7dac",
   "metadata": {},
   "outputs": [
    {
     "name": "stdout",
     "output_type": "stream",
     "text": [
      "sync_word: [1 1 1 0 1 0 1 1 1 0 0 1 0 0 0 0]\n",
      "preamble: [1 1 0 0 1 1 0 0 1 1 0 0 1 1 0 0 1 1 0 0 1 1 0 0 1 1 0 0 1 1 0 0 1 1 0 0 1\n",
      " 1 0 0 1 1 0 0 1 1 0 0 1 1 0 0 1 1 0 0 1 1 0 0 1 1 0 0]\n"
     ]
    },
    {
     "data": {
      "text/plain": [
       "array([-1.4142-1.4142j,  1.4142+1.4142j, -1.4142-1.4142j,  1.4142+1.4142j,\n",
       "       -1.4142-1.4142j,  1.4142+1.4142j, -1.4142-1.4142j,  1.4142+1.4142j,\n",
       "       -1.4142-1.4142j,  1.4142+1.4142j, -1.4142-1.4142j,  1.4142+1.4142j,\n",
       "       -1.4142-1.4142j,  1.4142+1.4142j, -1.4142-1.4142j,  1.4142+1.4142j,\n",
       "       -1.4142-1.4142j,  1.4142+1.4142j, -1.4142-1.4142j,  1.4142+1.4142j,\n",
       "       -1.4142-1.4142j,  1.4142+1.4142j, -1.4142-1.4142j,  1.4142+1.4142j,\n",
       "       -1.4142-1.4142j,  1.4142+1.4142j, -1.4142-1.4142j,  1.4142+1.4142j,\n",
       "       -1.4142-1.4142j,  1.4142+1.4142j, -1.4142-1.4142j,  1.4142+1.4142j,\n",
       "       -1.4142-1.4142j,  1.4142-1.4142j,  1.4142-1.4142j, -1.4142-1.4142j,\n",
       "        1.4142-1.4142j, -1.4142+1.4142j,  1.4142+1.4142j,  1.4142+1.4142j,\n",
       "       -1.4142+1.4142j,  1.4142+1.4142j, -1.4142-1.4142j, -1.4142+1.4142j,\n",
       "       -1.4142+1.4142j,  1.4142-1.4142j, -1.4142-1.4142j, -1.4142-1.4142j,\n",
       "       -1.4142+1.4142j,  1.4142-1.4142j,  1.4142+1.4142j,  1.4142-1.4142j,\n",
       "       -1.4142+1.4142j,  1.4142-1.4142j,  1.4142-1.4142j, -1.4142+1.4142j,\n",
       "       -1.4142+1.4142j,  1.4142-1.4142j, -1.4142-1.4142j,  1.4142+1.4142j,\n",
       "       -1.4142+1.4142j,  1.4142-1.4142j, -1.4142+1.4142j, -1.4142+1.4142j,\n",
       "        1.4142+1.4142j,  1.4142-1.4142j,  1.4142+1.4142j,  1.4142+1.4142j,\n",
       "       -1.4142+1.4142j, -1.4142+1.4142j, -1.4142+1.4142j, -1.4142-1.4142j,\n",
       "       -1.4142+1.4142j,  1.4142-1.4142j,  1.4142-1.4142j, -1.4142+1.4142j,\n",
       "       -1.4142+1.4142j, -1.4142-1.4142j,  1.4142+1.4142j,  1.4142-1.4142j,\n",
       "       -1.4142+1.4142j,  1.4142-1.4142j, -1.4142+1.4142j, -1.4142+1.4142j,\n",
       "       -1.4142+1.4142j,  1.4142-1.4142j, -1.4142-1.4142j,  1.4142+1.4142j,\n",
       "       -1.4142+1.4142j,  1.4142-1.4142j, -1.4142+1.4142j, -1.4142+1.4142j,\n",
       "       -1.4142+1.4142j, -1.4142-1.4142j,  1.4142+1.4142j, -1.4142-1.4142j,\n",
       "       -1.4142+1.4142j, -1.4142-1.4142j,  1.4142+1.4142j, -1.4142-1.4142j,\n",
       "        1.4142+1.4142j,  1.4142-1.4142j,  1.4142+1.4142j,  1.4142+1.4142j,\n",
       "       -1.4142+1.4142j, -1.4142+1.4142j, -1.4142+1.4142j, -1.4142-1.4142j,\n",
       "       -1.4142+1.4142j,  1.4142-1.4142j, -1.4142+1.4142j, -1.4142+1.4142j,\n",
       "       -1.4142+1.4142j,  1.4142-1.4142j, -1.4142+1.4142j, -1.4142+1.4142j,\n",
       "       -1.4142+1.4142j,  1.4142-1.4142j,  1.4142-1.4142j, -1.4142-1.4142j,\n",
       "        1.4142+1.4142j,  1.4142-1.4142j,  1.4142+1.4142j,  1.4142+1.4142j,\n",
       "        1.4142+1.4142j, -1.4142-1.4142j,  1.4142+1.4142j,  1.4142-1.4142j,\n",
       "        1.4142+1.4142j, -1.4142-1.4142j,  1.4142+1.4142j,  1.4142+1.4142j,\n",
       "        1.4142+1.4142j, -1.4142-1.4142j,  1.4142+1.4142j,  1.4142-1.4142j,\n",
       "        1.4142+1.4142j, -1.4142-1.4142j,  1.4142+1.4142j, -1.4142-1.4142j])"
      ]
     },
     "execution_count": 187,
     "metadata": {},
     "output_type": "execute_result"
    }
   ],
   "source": [
    "QPSK_samples = Mod_TX()\n",
    "QPSK_samples"
   ]
  },
  {
   "cell_type": "code",
   "execution_count": 188,
   "id": "c09cd082",
   "metadata": {},
   "outputs": [],
   "source": [
    "def write_complex_binary(data, filename):\n",
    "    '''\n",
    "    Open filename and write array to it as binary\n",
    "    Format is interleaved float IQ e.g. each I,Q should be 32-bit float \n",
    "    INPUT\n",
    "    ----\n",
    "    data:     data to be wrote into the file. format: (length, )\n",
    "    filename: file name\n",
    "    '''\n",
    "\n",
    "    re = np.real(data)\n",
    "    im = np.imag(data)\n",
    "    binary = np.zeros(len(data)*2, dtype=np.float32)\n",
    "    binary[::2] = re\n",
    "    binary[1::2] = im\n",
    "    binary.tofile(filename)   \n",
    "write_complex_binary(QPSK_samples, 'QPSK_signal.iq')"
   ]
  },
  {
   "cell_type": "code",
   "execution_count": 189,
   "id": "746c65a5",
   "metadata": {},
   "outputs": [],
   "source": [
    "def get_samps_from_file(filename): \n",
    "    '''\n",
    "    load samples from the binary file\n",
    "    '''\n",
    "    # File should be in GNURadio's format, i.e., interleaved I/Q samples as float32\n",
    "    samples = np.fromfile(filename, dtype=np.float32)\n",
    "    samps = (samples[::2] + 1j*samples[1::2]).astype((np.complex64)) # convert to IQIQIQ  \n",
    "    return samps"
   ]
  },
  {
   "cell_type": "code",
   "execution_count": 190,
   "id": "1fe72feb",
   "metadata": {},
   "outputs": [
    {
     "data": {
      "text/plain": [
       "array([-1.4142-1.4142j,  1.4142+1.4142j, -1.4142-1.4142j,  1.4142+1.4142j,\n",
       "       -1.4142-1.4142j,  1.4142+1.4142j, -1.4142-1.4142j,  1.4142+1.4142j,\n",
       "       -1.4142-1.4142j,  1.4142+1.4142j, -1.4142-1.4142j,  1.4142+1.4142j,\n",
       "       -1.4142-1.4142j,  1.4142+1.4142j, -1.4142-1.4142j,  1.4142+1.4142j,\n",
       "       -1.4142-1.4142j,  1.4142+1.4142j, -1.4142-1.4142j,  1.4142+1.4142j,\n",
       "       -1.4142-1.4142j,  1.4142+1.4142j, -1.4142-1.4142j,  1.4142+1.4142j,\n",
       "       -1.4142-1.4142j,  1.4142+1.4142j, -1.4142-1.4142j,  1.4142+1.4142j,\n",
       "       -1.4142-1.4142j,  1.4142+1.4142j, -1.4142-1.4142j,  1.4142+1.4142j,\n",
       "       -1.4142-1.4142j,  1.4142-1.4142j,  1.4142-1.4142j, -1.4142-1.4142j,\n",
       "        1.4142-1.4142j, -1.4142+1.4142j,  1.4142+1.4142j,  1.4142+1.4142j,\n",
       "       -1.4142+1.4142j,  1.4142+1.4142j, -1.4142-1.4142j, -1.4142+1.4142j,\n",
       "       -1.4142+1.4142j,  1.4142-1.4142j, -1.4142-1.4142j, -1.4142-1.4142j,\n",
       "       -1.4142+1.4142j,  1.4142-1.4142j,  1.4142+1.4142j,  1.4142-1.4142j,\n",
       "       -1.4142+1.4142j,  1.4142-1.4142j,  1.4142-1.4142j, -1.4142+1.4142j,\n",
       "       -1.4142+1.4142j,  1.4142-1.4142j, -1.4142-1.4142j,  1.4142+1.4142j,\n",
       "       -1.4142+1.4142j,  1.4142-1.4142j, -1.4142+1.4142j, -1.4142+1.4142j,\n",
       "        1.4142+1.4142j,  1.4142-1.4142j,  1.4142+1.4142j,  1.4142+1.4142j,\n",
       "       -1.4142+1.4142j, -1.4142+1.4142j, -1.4142+1.4142j, -1.4142-1.4142j,\n",
       "       -1.4142+1.4142j,  1.4142-1.4142j,  1.4142-1.4142j, -1.4142+1.4142j,\n",
       "       -1.4142+1.4142j, -1.4142-1.4142j,  1.4142+1.4142j,  1.4142-1.4142j,\n",
       "       -1.4142+1.4142j,  1.4142-1.4142j, -1.4142+1.4142j, -1.4142+1.4142j,\n",
       "       -1.4142+1.4142j,  1.4142-1.4142j, -1.4142-1.4142j,  1.4142+1.4142j,\n",
       "       -1.4142+1.4142j,  1.4142-1.4142j, -1.4142+1.4142j, -1.4142+1.4142j,\n",
       "       -1.4142+1.4142j, -1.4142-1.4142j,  1.4142+1.4142j, -1.4142-1.4142j,\n",
       "       -1.4142+1.4142j, -1.4142-1.4142j,  1.4142+1.4142j, -1.4142-1.4142j,\n",
       "        1.4142+1.4142j,  1.4142-1.4142j,  1.4142+1.4142j,  1.4142+1.4142j,\n",
       "       -1.4142+1.4142j, -1.4142+1.4142j, -1.4142+1.4142j, -1.4142-1.4142j,\n",
       "       -1.4142+1.4142j,  1.4142-1.4142j, -1.4142+1.4142j, -1.4142+1.4142j,\n",
       "       -1.4142+1.4142j,  1.4142-1.4142j, -1.4142+1.4142j, -1.4142+1.4142j,\n",
       "       -1.4142+1.4142j,  1.4142-1.4142j,  1.4142-1.4142j, -1.4142-1.4142j,\n",
       "        1.4142+1.4142j,  1.4142-1.4142j,  1.4142+1.4142j,  1.4142+1.4142j,\n",
       "        1.4142+1.4142j, -1.4142-1.4142j,  1.4142+1.4142j,  1.4142-1.4142j,\n",
       "        1.4142+1.4142j, -1.4142-1.4142j,  1.4142+1.4142j,  1.4142+1.4142j,\n",
       "        1.4142+1.4142j, -1.4142-1.4142j,  1.4142+1.4142j,  1.4142-1.4142j,\n",
       "        1.4142+1.4142j, -1.4142-1.4142j,  1.4142+1.4142j, -1.4142-1.4142j],\n",
       "      dtype=complex64)"
      ]
     },
     "execution_count": 190,
     "metadata": {},
     "output_type": "execute_result"
    }
   ],
   "source": [
    "get_samps_from_file('QPSK_signal.iq')"
   ]
  }
 ],
 "metadata": {
  "kernelspec": {
   "display_name": "Python 3 (ipykernel)",
   "language": "python",
   "name": "python3"
  },
  "language_info": {
   "codemirror_mode": {
    "name": "ipython",
    "version": 3
   },
   "file_extension": ".py",
   "mimetype": "text/x-python",
   "name": "python",
   "nbconvert_exporter": "python",
   "pygments_lexer": "ipython3",
   "version": "3.9.7"
  }
 },
 "nbformat": 4,
 "nbformat_minor": 5
}
