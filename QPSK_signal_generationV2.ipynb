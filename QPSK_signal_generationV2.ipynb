{
 "cells": [
  {
   "cell_type": "code",
   "execution_count": 111,
   "id": "d0e3ce34",
   "metadata": {},
   "outputs": [],
   "source": [
    "import math\n",
    "import numpy as np\n",
    "import matplotlib.pyplot as plt\n",
    "import matplotlib\n",
    "from scipy.signal import lfilter\n",
    "\n",
    "def Information_Transmit():\n",
    "    M = 2 # bits per symbol (i.e. 2 in QPSK modulation)\n",
    "    Information_to_transmit = 'I worked all week on digital communications and all I got was this sequence of ones and zeros.'\n",
    "    binary = ''.join(format(ord(i), '08b') for i in Information_to_transmit)\n",
    "    data_bits = np.zeros((len(binary),))\n",
    "    for i in range(len(binary)):\n",
    "        data_bits[i] = binary[i]\n",
    "    \n",
    "    # Add synch_word to\n",
    "    sync_word = np.asarray([1, 1, 1, 0, 1, 0, 1, 1, 1, 0, 0, 1, 0, 0, 0, 0])\n",
    "    print('sync_word:',sync_word)\n",
    "    bit_sequence = np.hstack([sync_word, data_bits])\n",
    "    \n",
    "    # Add Preamble\n",
    "    preamle_code = np.asarray([1,1,0,0])\n",
    "    for i in range(16):\n",
    "        if i ==0:\n",
    "             preamble_swap = preamle_code\n",
    "        else:    \n",
    "            preamble = np.hstack([preamble_swap, preamle_code])\n",
    "            preamble_swap = preamble\n",
    "    \n",
    "    print('preamble:',preamble)\n",
    "    print('length of preamble:', len(preamble))\n",
    "    QPSK_frame = np.hstack([preamble, bit_sequence])\n",
    "    \n",
    "    print('QPSK Frame:',len(QPSK_frame))\n",
    "    # Convert serial data to parallel\n",
    "    def Serial_to_Parallel(x):\n",
    "        return x.reshape((len(x)//M, M))\n",
    "    QPSK_bits = Serial_to_Parallel(QPSK_frame)\n",
    "\n",
    "    return QPSK_bits"
   ]
  },
  {
   "cell_type": "code",
   "execution_count": 112,
   "id": "fe0c7dac",
   "metadata": {},
   "outputs": [],
   "source": [
    "def lut(data, inputVec, outputVec):\n",
    "    if len(inputVec) != len(outputVec):\n",
    "        print('Input and Output vectors must have identical length')\n",
    "    # Initialize output\n",
    "    output = np.zeros(data.shape)\n",
    "    # For each possible data value\n",
    "    eps = np.finfo('float').eps\n",
    "    for i in range(len(inputVec)):\n",
    "        # Find the indices where data is equal to that input value\n",
    "        for k in range(len(data)):\n",
    "            if abs(data[k]-inputVec[i]) < eps:\n",
    "                # Set those indices in the output to be the appropriate output value.\n",
    "                output[k] = outputVec[i]\n",
    "    return output"
   ]
  },
  {
   "cell_type": "code",
   "execution_count": 113,
   "id": "2b91e04c",
   "metadata": {},
   "outputs": [],
   "source": [
    "def oversample(x, OS_Rate):\n",
    "    # Initialize output\n",
    "    length = len(x[0])\n",
    "    x_s = np.zeros((1,length*OS_Rate))\n",
    "    # Fill in one out of every OS_Rate samples with the input values\n",
    "    count = 0\n",
    "    h = 0\n",
    "    for k in range(len(x_s[0])):\n",
    "        count = count + 1\n",
    "        if count == OS_Rate:\n",
    "            x_s[0][k] = x[0][h]\n",
    "            count = 0\n",
    "            h = h + 1\n",
    "    return x_s"
   ]
  },
  {
   "cell_type": "code",
   "execution_count": 114,
   "id": "4334b2f7",
   "metadata": {},
   "outputs": [],
   "source": [
    "def SRRC(alpha, N, Lp):\n",
    "    # Add epsilon to the n values to avoid numerical problems\n",
    "    ntemp = list(range(-N*Lp, N*Lp+1))\n",
    "    n = []\n",
    "    for each in ntemp:\n",
    "        n.append(each + math.pow(10,-9))\n",
    "    # Plug into time domain formula for the SRRC pulse shape\n",
    "    h = []\n",
    "    coeff = 1/math.sqrt(N)\n",
    "    for each in n:\n",
    "        sine_term = math.sin(math.pi * each * (1-alpha) / N)\n",
    "        cosine_term = math.cos(math.pi * each * (1+alpha) / N)\n",
    "        cosine_coeff = 4 * alpha * each / N\n",
    "        numerator = sine_term + (cosine_coeff * cosine_term)\n",
    "        denom_coeff = math.pi * each / N\n",
    "        denom_part = 1 - math.pow(cosine_coeff, 2)\n",
    "        denominator = denom_coeff * denom_part\n",
    "        pulse = coeff * numerator / denominator\n",
    "        h.append(pulse)\n",
    "    return h"
   ]
  },
  {
   "cell_type": "code",
   "execution_count": 115,
   "id": "9310fb4a",
   "metadata": {},
   "outputs": [
    {
     "name": "stdout",
     "output_type": "stream",
     "text": [
      "sync_word: [1 1 1 0 1 0 1 1 1 0 0 1 0 0 0 0]\n",
      "preamble: [1 1 0 0 1 1 0 0 1 1 0 0 1 1 0 0 1 1 0 0 1 1 0 0 1 1 0 0 1 1 0 0 1 1 0 0 1\n",
      " 1 0 0 1 1 0 0 1 1 0 0 1 1 0 0 1 1 0 0 1 1 0 0 1 1 0 0]\n",
      "length of preamble: 64\n",
      "QPSK Frame: 832\n"
     ]
    }
   ],
   "source": [
    "Frame = Information_Transmit()\n",
    "data1=[]\n",
    "for i in range(len(Frame)):\n",
    "    data1.append(2*Frame[i][0]+Frame[i][1])\n",
    "data = np.array(data1)"
   ]
  },
  {
   "cell_type": "code",
   "execution_count": 116,
   "id": "e34d8c18",
   "metadata": {},
   "outputs": [],
   "source": [
    "###########################################\n",
    "### Modulation\n",
    "### INPUT: data\n",
    "### OUTPUT: modulated values, x\n",
    "\n",
    "A = math.sqrt(9/2)\n",
    "inputVec   = [0, 1, 2, 3]\n",
    "outputVecI = [A, -A, A, -A]\n",
    "outputVecQ = [A, A, -A, -A]\n",
    "xI         = lut(data, inputVec, outputVecI)\n",
    "xQ         = lut(data, inputVec, outputVecQ)\n",
    "xI = xI.reshape((1,len(data)))\n",
    "xQ = xQ.reshape((1,len(data)))"
   ]
  },
  {
   "cell_type": "code",
   "execution_count": 117,
   "id": "30d25b51",
   "metadata": {},
   "outputs": [],
   "source": [
    "###########################################\n",
    "### Upsample\n",
    "### INPUT: modulated values, x\n",
    "### OUTPUT: modulated values at sampling rate, x_s\n",
    "\n",
    "x_s_I = oversample(xI,8)\n",
    "x_s_Q = oversample(xQ,8)"
   ]
  },
  {
   "cell_type": "code",
   "execution_count": 118,
   "id": "b9da8f3d",
   "metadata": {},
   "outputs": [],
   "source": [
    "pulse = SRRC(0.5, 8, 6)\n",
    "pulse = np.array(pulse)\n",
    "pulse = np.reshape(pulse, pulse.size)\n",
    "x_s_I = np.reshape(x_s_I, x_s_I.size)\n",
    "x_s_Q = np.reshape(x_s_Q, x_s_Q.size)\n",
    "s_0_I = np.convolve(x_s_I, pulse, mode='full')\n",
    "s_0_Q = np.convolve(x_s_Q, pulse, mode='full')"
   ]
  },
  {
   "cell_type": "code",
   "execution_count": 119,
   "id": "bda8f849",
   "metadata": {},
   "outputs": [
    {
     "name": "stdout",
     "output_type": "stream",
     "text": [
      "QPSK_samples: 3424\n",
      "type: <class 'numpy.complex128'>\n"
     ]
    }
   ],
   "source": [
    "QPSK_samples = s_0_I + s_0_Q*1j"
   ]
  },
  {
   "cell_type": "code",
   "execution_count": 121,
   "id": "f0258784",
   "metadata": {},
   "outputs": [
    {
     "name": "stdout",
     "output_type": "stream",
     "text": [
      "4448\n"
     ]
    }
   ],
   "source": [
    "## Add 1024 zero value samples at the beginning\n",
    "QPSK_samples_Final = np.hstack([np.zeros(1024, dtype=np.complex128),QPSK_samples])"
   ]
  },
  {
   "cell_type": "code",
   "execution_count": 122,
   "id": "c09cd082",
   "metadata": {},
   "outputs": [],
   "source": [
    "def write_complex_binary(data, filename):\n",
    "    '''\n",
    "    Open filename and write array to it as binary\n",
    "    Format is interleaved float IQ e.g. each I,Q should be 32-bit float \n",
    "    INPUT\n",
    "    ----\n",
    "    data:     data to be wrote into the file. format: (length, )\n",
    "    filename: file name\n",
    "    '''\n",
    "    re = np.real(data)\n",
    "    im = np.imag(data)\n",
    "    binary = np.zeros(len(data)*2, dtype=np.float32)\n",
    "    binary[::2] = re\n",
    "    binary[1::2] = im\n",
    "    binary.tofile(filename)   \n",
    "write_complex_binary(QPSK_samples_Final, 'QPSK_signal.iq')"
   ]
  },
  {
   "cell_type": "code",
   "execution_count": 123,
   "id": "746c65a5",
   "metadata": {},
   "outputs": [],
   "source": [
    "def get_samps_from_file(filename): \n",
    "    '''\n",
    "    load samples from the binary file\n",
    "    '''\n",
    "    # File should be in GNURadio's format, i.e., interleaved I/Q samples as float32\n",
    "    samples = np.fromfile(filename, dtype=np.float32)\n",
    "    samps = (samples[::2] + 1j*samples[1::2]).astype((np.complex64)) # convert to IQIQIQ  \n",
    "    return samps"
   ]
  },
  {
   "cell_type": "code",
   "execution_count": 124,
   "id": "1fe72feb",
   "metadata": {},
   "outputs": [
    {
     "data": {
      "text/plain": [
       "array([0.        +0.j        , 0.        +0.j        ,\n",
       "       0.        +0.j        , ..., 0.00127108-0.00127108j,\n",
       "       0.00283863-0.00283863j, 0.00333891-0.00333891j], dtype=complex64)"
      ]
     },
     "execution_count": 124,
     "metadata": {},
     "output_type": "execute_result"
    }
   ],
   "source": [
    "get_samps_from_file('QPSK_signal.iq')"
   ]
  }
 ],
 "metadata": {
  "kernelspec": {
   "display_name": "Python 3 (ipykernel)",
   "language": "python",
   "name": "python3"
  },
  "language_info": {
   "codemirror_mode": {
    "name": "ipython",
    "version": 3
   },
   "file_extension": ".py",
   "mimetype": "text/x-python",
   "name": "python",
   "nbconvert_exporter": "python",
   "pygments_lexer": "ipython3",
   "version": "3.9.7"
  }
 },
 "nbformat": 4,
 "nbformat_minor": 5
}
